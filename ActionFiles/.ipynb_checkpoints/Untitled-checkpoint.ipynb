{
 "cells": [
  {
   "cell_type": "markdown",
   "metadata": {},
   "source": [
    "# GITHUB ACTION\n",
    "[link]"
   ]
  },
  {
   "cell_type": "code",
   "execution_count": null,
   "metadata": {},
   "outputs": [],
   "source": [
    "!pip install requests\n",
    "!pip install re\n",
    "!pip install BeautifulSoup"
   ]
  },
  {
   "cell_type": "code",
   "execution_count": null,
   "metadata": {},
   "outputs": [],
   "source": [
    "import requests\n",
    "import re\n",
    "from bs4 import BeautifulSoup\n",
    "\n",
    "requests.packages.urllib3.disable_warnings()"
   ]
  },
  {
   "cell_type": "code",
   "execution_count": null,
   "metadata": {},
   "outputs": [],
   "source": [
    "# 출퇴근길 개발일기\n",
    "_URL = \"https://github.com/Integerous/goQuality-dev-contents/blob/master/README.md\""
   ]
  },
  {
   "cell_type": "code",
   "execution_count": null,
   "metadata": {},
   "outputs": [],
   "source": [
    "def getProductReviewsFromIherb(url,lang='', trans='ko-KR',count=10000):\n",
    "    header = {\n",
    "        'Accept-Encoding': 'gzip, deflate, br',\n",
    "        'User-Agent': \"Mozilla/5.0 (Windows NT 10.0; Win64; x64) AppleWebKit/537.36 (KHTML, like Gecko) Chrome/64.0.3282.186 Safari/537.36\",\n",
    "        'Accept': \"*/*\",\n",
    "        'Accept-Language': 'ko-KR,ko;q=0.8,en-US;q=0.6,en;q=0.4',\n",
    "        'Referer': url,\n",
    "        'x-requested-with':'XMLHttpRequest'\n",
    "    }\n",
    "\n",
    "    product_num= url.split('/')[-1]\n",
    "    api_url ='https://kr.iherb.com/ugc/api/review?pid=' +product_num+'&limit='+ str(count)+'&lc='+lang+'&translations='+trans+'&page=1&sortId=1&withUgcSummary=true'\n",
    "    print(api_url)\n",
    "\n",
    "    s = requests.session()\n",
    "    res = s.get(api_url, verify=False, json=True, headers=header).json()\n",
    "    \n",
    "    #print(res)\n",
    "    \n",
    "    i=1\n",
    "    commentstr =[]\n",
    "    for r in res['items']:\n",
    "\n",
    "        #rating ='<b>'+str(i)+'. : '+'<span style=\"font-size: 12pt; color: rgb(31, 218, 17);\">★'*int(int(r['ratingValue'])/10) +'</span></b>'\n",
    "        #if int(int(r['ratingValue'])/10) <3:\n",
    "        #   continue\n",
    "\n",
    "\n",
    "        #commentstr+=rating\n",
    "\n",
    "\n",
    "\n",
    "        if len(r['translations']) == 0:\n",
    "            #commentstr.append( r['reviewTitle'])\n",
    "            commentstr.append( r['reviewText'])\n",
    "        else:\n",
    "            #commentstr.append(r['translations'][0]['reviewTitle'])\n",
    "            commentstr.append( r['translations'][0]['reviewText'])\n",
    "        i+=1\n",
    "\n",
    "\n",
    "\n",
    "    return commentstr"
   ]
  },
  {
   "cell_type": "code",
   "execution_count": null,
   "metadata": {},
   "outputs": [],
   "source": [
    "print(_URL)"
   ]
  }
 ],
 "metadata": {
  "kernelspec": {
   "display_name": "Python 3.8.2 32-bit",
   "language": "python",
   "name": "python38232bitb9b840148db94c4199ad619da733fd8c"
  },
  "language_info": {
   "codemirror_mode": {
    "name": "ipython",
    "version": 3
   },
   "file_extension": ".py",
   "mimetype": "text/x-python",
   "name": "python",
   "nbconvert_exporter": "python",
   "pygments_lexer": "ipython3",
   "version": "3.8.2"
  }
 },
 "nbformat": 4,
 "nbformat_minor": 4
}
